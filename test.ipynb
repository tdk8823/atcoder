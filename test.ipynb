{
 "cells": [
  {
   "cell_type": "code",
   "execution_count": 1,
   "metadata": {},
   "outputs": [
    {
     "name": "stderr",
     "output_type": "stream",
     "text": [
      "/Users/dai/opt/anaconda3/lib/python3.7/site-packages/statsmodels/tools/_testing.py:19: FutureWarning: pandas.util.testing is deprecated. Use the functions in the public API at pandas.testing instead.\n",
      "  import pandas.util.testing as tm\n"
     ]
    }
   ],
   "source": [
    "import random\n",
    "import numpy as np\n",
    "import math\n",
    "import matplotlib.pyplot as plt\n",
    "from scipy.special import comb\n",
    "from tqdm import tqdm_notebook as tqdm\n",
    "from jupyterthemes import jtplot\n",
    "jtplot.style(theme=\"monokai\")\n",
    "\n",
    "def prime_factorize(n):\n",
    "    a = []\n",
    "    while n % 2 == 0:\n",
    "        a.append(2)\n",
    "        n //= 2\n",
    "    f = 3\n",
    "    while f * f <= n:\n",
    "        if n % f == 0:\n",
    "            a.append(f)\n",
    "            n //= f\n",
    "        else:\n",
    "            f += 2\n",
    "    if n != 1:\n",
    "        a.append(n)\n",
    "    return a\n"
   ]
  },
  {
   "cell_type": "code",
   "execution_count": 73,
   "metadata": {},
   "outputs": [],
   "source": [
    "def dfs(A,B,C,bmax):\n",
    "    if len(A)==0:\n",
    "        ans.append(sorted(B))\n",
    "        bmax = max(bmax,sum(B))\n",
    "        return bmax\n",
    "    else:\n",
    "        for i in range(len(A)):\n",
    "            tmp = A.copy()\n",
    "            B.append(tmp[i])\n",
    "            tmp.remove(tmp[i])\n",
    "            C.append(tmp[len(tmp)//2])\n",
    "            tmp.remove(tmp[len(tmp)//2])\n",
    "            bmax = max(dfs(tmp,B,C,bmax),bmax)\n",
    "            B.remove(B[len(B)-1])\n",
    "            C.remove(C[len(C)-1])\n",
    "        return bmax\n",
    "def get_unique_list(seq):\n",
    "    seen = []\n",
    "    return [x for x in seq if x not in seen and not seen.append(x)]"
   ]
  },
  {
   "cell_type": "code",
   "execution_count": 85,
   "metadata": {},
   "outputs": [
    {
     "data": {
      "text/plain": [
       "14"
      ]
     },
     "execution_count": 85,
     "metadata": {},
     "output_type": "execute_result"
    }
   ],
   "source": [
    "ans = []\n",
    "bmax = 0\n",
    "A_ = [1,2,3,4,5,6]\n",
    "random.shuffle(A_)\n",
    "B_ = []\n",
    "C_ = []\n",
    "get_unique_list(ans)\n",
    "dfs(A_,B_,C_,bmax)\n"
   ]
  },
  {
   "cell_type": "code",
   "execution_count": null,
   "metadata": {},
   "outputs": [],
   "source": []
  }
 ],
 "metadata": {
  "kernelspec": {
   "display_name": "Python 3",
   "language": "python",
   "name": "python3"
  },
  "language_info": {
   "codemirror_mode": {
    "name": "ipython",
    "version": 3
   },
   "file_extension": ".py",
   "mimetype": "text/x-python",
   "name": "python",
   "nbconvert_exporter": "python",
   "pygments_lexer": "ipython3",
   "version": "3.7.4"
  }
 },
 "nbformat": 4,
 "nbformat_minor": 2
}
